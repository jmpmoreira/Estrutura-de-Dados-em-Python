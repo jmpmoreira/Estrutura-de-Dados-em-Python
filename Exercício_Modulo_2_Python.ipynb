{
  "nbformat": 4,
  "nbformat_minor": 0,
  "metadata": {
    "colab": {
      "name": "Exercício Modulo 2 Python",
      "provenance": []
    },
    "kernelspec": {
      "name": "python3",
      "display_name": "Python 3"
    },
    "language_info": {
      "name": "python"
    }
  },
  "cells": [
    {
      "cell_type": "markdown",
      "source": [
        "Criei uma lista chamada filmes com o nome dos 10 primeiros filmes mais bem avaliados no\n",
        "site no IMDB. Imprima o resultado.\n"
      ],
      "metadata": {
        "id": "zyaycSw_W9hN"
      }
    },
    {
      "cell_type": "code",
      "execution_count": 1,
      "metadata": {
        "colab": {
          "base_uri": "https://localhost:8080/"
        },
        "id": "MtRZP47LVL2f",
        "outputId": "2a0127ab-26d4-4d63-d47f-ea36c7ae5f81"
      },
      "outputs": [
        {
          "output_type": "stream",
          "name": "stdout",
          "text": [
            "['Um Sonho de Liberdade', 'O Poderoso ChefãoBatman: O Cavaleiro das Trevas', 'O Poderoso Chefão II', '12 Homens e uma Sentença', 'A Lista de Schindler O Senhor dos Anéis: O Retorno do Rei', 'Pulp Fiction: Tempo de Violência', 'O Senhor dos Anéis: A Sociedade do Anel', ' Três Homens em Conflito']\n"
          ]
        }
      ],
      "source": [
        "top_dez_filmes_imdb = ['Um Sonho de Liberdade', 'O Poderoso Chefão' 'Batman: O Cavaleiro das Trevas', 'O Poderoso Chefão II', '12 Homens e uma Sentença', 'A Lista de Schindler'\n",
        "                       ' O Senhor dos Anéis: O Retorno do Rei', 'Pulp Fiction: Tempo de Violência', 'O Senhor dos Anéis: A Sociedade do Anel', ' Três Homens em Conflito']\n",
        "\n",
        "print (top_dez_filmes_imdb)"
      ]
    },
    {
      "cell_type": "markdown",
      "source": [
        "Simule a movimentação do ranking. Utilize os métodos insert e pop para trocar a posição do primeiro e do segundo filme da lista. Imprima o resultado.\n"
      ],
      "metadata": {
        "id": "Ge0ahqN-XDUc"
      }
    },
    {
      "cell_type": "code",
      "source": [
        "[ ] # inserir um elemento sem substituir: list.insert(index, val)\n",
        "top_dez_filmes_imdb.insert (0,'O poderoso Chefão')\n",
        "print (top_dez_filmes_imdb)"
      ],
      "metadata": {
        "colab": {
          "base_uri": "https://localhost:8080/"
        },
        "id": "6o8AxgHnXOkl",
        "outputId": "6c870895-0e65-44a6-df8e-59caa7a420ca"
      },
      "execution_count": 2,
      "outputs": [
        {
          "output_type": "stream",
          "name": "stdout",
          "text": [
            "['O poderoso Chefão', 'Um Sonho de Liberdade', 'O Poderoso ChefãoBatman: O Cavaleiro das Trevas', 'O Poderoso Chefão II', '12 Homens e uma Sentença', 'A Lista de Schindler O Senhor dos Anéis: O Retorno do Rei', 'Pulp Fiction: Tempo de Violência', 'O Senhor dos Anéis: A Sociedade do Anel', ' Três Homens em Conflito']\n"
          ]
        }
      ]
    },
    {
      "cell_type": "code",
      "source": [
        "[ ] # remover um elemento da lista pelo indice: list.pop(val)\n",
        "top_filmes = top_dez_filmes_imdb.pop (1)\n",
        "print (top_filmes)"
      ],
      "metadata": {
        "colab": {
          "base_uri": "https://localhost:8080/"
        },
        "id": "_oF8C3ipY5De",
        "outputId": "bb1e7692-744c-4ddd-89bf-9aab95321fe2"
      },
      "execution_count": 3,
      "outputs": [
        {
          "output_type": "stream",
          "name": "stdout",
          "text": [
            "Um Sonho de Liberdade\n"
          ]
        }
      ]
    },
    {
      "cell_type": "code",
      "source": [
        "print (top_dez_filmes_imdb)"
      ],
      "metadata": {
        "colab": {
          "base_uri": "https://localhost:8080/"
        },
        "id": "Bn43hvWqZezW",
        "outputId": "21a9c38e-5d7a-4106-d817-82345c6882a8"
      },
      "execution_count": 4,
      "outputs": [
        {
          "output_type": "stream",
          "name": "stdout",
          "text": [
            "['O poderoso Chefão', 'O Poderoso ChefãoBatman: O Cavaleiro das Trevas', 'O Poderoso Chefão II', '12 Homens e uma Sentença', 'A Lista de Schindler O Senhor dos Anéis: O Retorno do Rei', 'Pulp Fiction: Tempo de Violência', 'O Senhor dos Anéis: A Sociedade do Anel', ' Três Homens em Conflito']\n"
          ]
        }
      ]
    },
    {
      "cell_type": "markdown",
      "source": [
        "Aconteceu um erro no seu ranking. Simule a duplicação dos três últimos filmes da lista.\n",
        "Imprima o resultado.\n"
      ],
      "metadata": {
        "id": "6on17GPQ86JV"
      }
    },
    {
      "cell_type": "code",
      "source": [
        "top_dez_filmes_imdb = {'Um Sonho de Liberdade', 'O Poderoso Chefão', 'Batman: O Cavaleiro das Trevas', 'O Poderoso Chefão II', '12 Homens e uma Sentença', 'A Lista de Schindler'\n",
        "                       ' O Senhor dos Anéis: O Retorno do Rei', 'Pulp Fiction: Tempo de Violência', 'O Senhor dos Anéis: A Sociedade do Anel', ' Três Homens em Conflito'}\n",
        "print (top_dez_filmes_imdb)                      "
      ],
      "metadata": {
        "colab": {
          "base_uri": "https://localhost:8080/"
        },
        "id": "VZnfgZBR9Deg",
        "outputId": "0ec7fccd-b056-4020-e8d6-178f333164ca"
      },
      "execution_count": 5,
      "outputs": [
        {
          "output_type": "stream",
          "name": "stdout",
          "text": [
            "{'O Poderoso Chefão', 'Pulp Fiction: Tempo de Violência', ' Três Homens em Conflito', 'Um Sonho de Liberdade', 'Batman: O Cavaleiro das Trevas', 'O Senhor dos Anéis: A Sociedade do Anel', 'O Poderoso Chefão II', 'A Lista de Schindler O Senhor dos Anéis: O Retorno do Rei', '12 Homens e uma Sentença'}\n"
          ]
        }
      ]
    },
    {
      "cell_type": "code",
      "source": [
        " # inserir um elemento no conjunto: set.add(val) \n",
        "top_dez_filmes_imdb.add('Três Homens em Conflito')\n",
        "\n",
        "print (top_dez_filmes_imdb) \n",
        "\n"
      ],
      "metadata": {
        "colab": {
          "base_uri": "https://localhost:8080/"
        },
        "id": "r_e5jL2_9_So",
        "outputId": "909142a5-e2c2-481f-85cc-805a0ae53735"
      },
      "execution_count": 6,
      "outputs": [
        {
          "output_type": "stream",
          "name": "stdout",
          "text": [
            "{'O Poderoso Chefão', 'Pulp Fiction: Tempo de Violência', ' Três Homens em Conflito', 'Um Sonho de Liberdade', 'Três Homens em Conflito', 'Batman: O Cavaleiro das Trevas', 'O Senhor dos Anéis: A Sociedade do Anel', 'O Poderoso Chefão II', 'A Lista de Schindler O Senhor dos Anéis: O Retorno do Rei', '12 Homens e uma Sentença'}\n"
          ]
        }
      ]
    },
    {
      "cell_type": "code",
      "source": [
        " # inserir um elemento no conjunto: set.add(val) \n",
        "top_dez_filmes_imdb.add('O Senhor dos Anéis: A Sociedade do Anel')\n",
        "\n",
        "print (top_dez_filmes_imdb) \n"
      ],
      "metadata": {
        "colab": {
          "base_uri": "https://localhost:8080/"
        },
        "id": "JvmI9fvG_e4w",
        "outputId": "6373e741-db0d-42f3-e665-1a14f0c7d192"
      },
      "execution_count": 7,
      "outputs": [
        {
          "output_type": "stream",
          "name": "stdout",
          "text": [
            "{'O Poderoso Chefão', 'Pulp Fiction: Tempo de Violência', ' Três Homens em Conflito', 'Um Sonho de Liberdade', 'Três Homens em Conflito', 'Batman: O Cavaleiro das Trevas', 'O Senhor dos Anéis: A Sociedade do Anel', 'O Poderoso Chefão II', 'A Lista de Schindler O Senhor dos Anéis: O Retorno do Rei', '12 Homens e uma Sentença'}\n"
          ]
        }
      ]
    },
    {
      "cell_type": "code",
      "source": [
        " # inserir um elemento no conjunto: set.add(val) \n",
        "top_dez_filmes_imdb.add('Pulp Fiction: Tempo de Violência')\n",
        "\n",
        "print (top_dez_filmes_imdb) "
      ],
      "metadata": {
        "colab": {
          "base_uri": "https://localhost:8080/"
        },
        "id": "nsmCugZX_e-P",
        "outputId": "5b81ea20-e91e-4514-ecf9-1b9f76947021"
      },
      "execution_count": 8,
      "outputs": [
        {
          "output_type": "stream",
          "name": "stdout",
          "text": [
            "{'O Poderoso Chefão', 'Pulp Fiction: Tempo de Violência', ' Três Homens em Conflito', 'Um Sonho de Liberdade', 'Três Homens em Conflito', 'Batman: O Cavaleiro das Trevas', 'O Senhor dos Anéis: A Sociedade do Anel', 'O Poderoso Chefão II', 'A Lista de Schindler O Senhor dos Anéis: O Retorno do Rei', '12 Homens e uma Sentença'}\n"
          ]
        }
      ]
    },
    {
      "cell_type": "markdown",
      "source": [
        "Utiliza a conversão set e list para remover os valores duplicados. Imprima o resultado. \n"
      ],
      "metadata": {
        "id": "TNfLrVOQ95rO"
      }
    },
    {
      "cell_type": "code",
      "source": [
        "top_dez_filmes_imdb = {'O Poderoso Chefão', 'Pulp Fiction: Tempo de Violência', ' Três Homens em Conflito', 'Um Sonho de Liberdade', 'Três Homens em Conflito', 'Batman: O Cavaleiro das Trevas', 'O Senhor dos Anéis: A Sociedade do Anel', 'O Poderoso Chefão II', 'A Lista de Schindler O Senhor dos Anéis: O Retorno do Rei', '12 Homens e uma Sentença' }\n",
        "print(top_dez_filmes_imdb)\n",
        "print(type(top_dez_filmes_imdb))"
      ],
      "metadata": {
        "id": "zrQhPhkBAelH",
        "colab": {
          "base_uri": "https://localhost:8080/"
        },
        "outputId": "d68f7102-22e5-4393-d20f-bb9fd2c909b4"
      },
      "execution_count": 22,
      "outputs": [
        {
          "output_type": "stream",
          "name": "stdout",
          "text": [
            "{'Pulp Fiction: Tempo de Violência', 'O Poderoso Chefão', 'Três Homens em Conflito', 'Um Sonho de Liberdade', 'Batman: O Cavaleiro das Trevas', '12 Homens e uma Sentença', 'O Senhor dos Anéis: A Sociedade do Anel', 'O Poderoso Chefão II', 'A Lista de Schindler O Senhor dos Anéis: O Retorno do Rei', ' Três Homens em Conflito'}\n",
            "<class 'set'>\n"
          ]
        }
      ]
    },
    {
      "cell_type": "code",
      "source": [
        "top_dez_filmes_imdb = {'O Poderoso Chefão', 'Pulp Fiction: Tempo de Violência', ' Três Homens em Conflito', 'Um Sonho de Liberdade', 'Três Homens em Conflito', 'Batman: O Cavaleiro das Trevas', 'O Senhor dos Anéis: A Sociedade do Anel', 'O Poderoso Chefão II', 'A Lista de Schindler O Senhor dos Anéis: O Retorno do Rei', '12 Homens e uma Sentença' }\n",
        "\n",
        "print(top_dez_filmes_imdb)\n",
        "print (type(top_dez_filmes_imdb))"
      ],
      "metadata": {
        "colab": {
          "base_uri": "https://localhost:8080/"
        },
        "id": "spuQb1vd-xwY",
        "outputId": "7bdcb1ea-8052-4f05-b6ec-b474e6d0e1b0"
      },
      "execution_count": 23,
      "outputs": [
        {
          "output_type": "stream",
          "name": "stdout",
          "text": [
            "{'Pulp Fiction: Tempo de Violência', 'O Poderoso Chefão', 'Três Homens em Conflito', 'Um Sonho de Liberdade', 'Batman: O Cavaleiro das Trevas', '12 Homens e uma Sentença', 'O Senhor dos Anéis: A Sociedade do Anel', 'O Poderoso Chefão II', 'A Lista de Schindler O Senhor dos Anéis: O Retorno do Rei', ' Três Homens em Conflito'}\n",
            "<class 'set'>\n"
          ]
        }
      ]
    },
    {
      "cell_type": "code",
      "source": [
        "print(list(top_dez_filmes_imdb))\n",
        "print(type(list(top_dez_filmes_imdb)))"
      ],
      "metadata": {
        "colab": {
          "base_uri": "https://localhost:8080/"
        },
        "id": "7v-z0CaB_AXa",
        "outputId": "b9f5de51-10d1-41bd-ac4b-415949648030"
      },
      "execution_count": 24,
      "outputs": [
        {
          "output_type": "stream",
          "name": "stdout",
          "text": [
            "['Pulp Fiction: Tempo de Violência', 'O Poderoso Chefão', 'Três Homens em Conflito', 'Um Sonho de Liberdade', 'Batman: O Cavaleiro das Trevas', '12 Homens e uma Sentença', 'O Senhor dos Anéis: A Sociedade do Anel', 'O Poderoso Chefão II', 'A Lista de Schindler O Senhor dos Anéis: O Retorno do Rei', ' Três Homens em Conflito']\n",
            "<class 'list'>\n"
          ]
        }
      ]
    },
    {
      "cell_type": "markdown",
      "source": [
        "Repita os exercícios da parte 1 (listas). Os elementos da lista filmes devem ser dicionários\n",
        "no seguinte formato: {'nome': <nome-do-filme>, 'ano': <ano do filme>},\n",
        "'sinopse': <sinopse do filme>} .\n"
      ],
      "metadata": {
        "id": "R9R5e-m_I1EN"
      }
    },
    {
      "cell_type": "code",
      "source": [
        "Filmes = []"
      ],
      "metadata": {
        "id": "MtA5INQAI5BV"
      },
      "execution_count": 10,
      "outputs": []
    },
    {
      "cell_type": "code",
      "source": [
        "observacoes = {'Nome:' 'Um Sonho de Liberdade', 'Ano:' '1994', 'Sinopse:' 'Dois homens presos se reúnem ao longo de vários anos, encontrando consolo e eventual redenção através de atos de decência comum.'}\n",
        "Filmes.append(observacoes)"
      ],
      "metadata": {
        "id": "k-jBEcUZLVU1"
      },
      "execution_count": 11,
      "outputs": []
    },
    {
      "cell_type": "code",
      "source": [
        "observacoes = {'Nome:' 'O Poderoso Chefão', 'Ano:' '1972', 'Sinopse:' 'O patriarca idoso de uma dinastia do crime organizado transfere o controle de seu império clandestino para seu filho relutante.'}\n",
        "Filmes.append(observacoes)"
      ],
      "metadata": {
        "id": "gfx2wrrBMsAN"
      },
      "execution_count": 12,
      "outputs": []
    },
    {
      "cell_type": "code",
      "source": [
        "observacoes = {'Nome:' 'Batman: O Cavaleiro das Trevas', 'Ano:' '2008', 'Sinopse:' 'Quando a ameaça conhecida como O Coringa surge de seu passado, causa estragos e caos nas pessoas de Gotham. O Cavaleiro das Trevas deve aceitar um dos maiores testes para combater a injustiça.'}\n",
        "Filmes.append(observacoes)"
      ],
      "metadata": {
        "id": "X3lnI6HDNKXX"
      },
      "execution_count": 13,
      "outputs": []
    },
    {
      "cell_type": "code",
      "source": [
        "observacoes = {'Nome:' 'O Poderoso Chefão II', 'Ano:' '1974', 'Sinopse:' 'Em 1950, Michael Corleone, agora à frente da família, tenta expandir o negócio do crime a Las Vegas, Los Angeles e Cuba. Paralelamente, é revelada a história de Vito Corleone, e de como saiu da Sicília e chegou a Nova Iorque.'}\n",
        "Filmes.append(observacoes)"
      ],
      "metadata": {
        "id": "BFyqb3AENKp-"
      },
      "execution_count": 14,
      "outputs": []
    },
    {
      "cell_type": "code",
      "source": [
        "observacoes = {'Nome:' '12 Homens e uma Sentença', 'Ano:' '1957', 'Sinopse:' 'Um jurado que se aposenta tenta evitar um erro judicial forçando seus colegas a reconsiderarem as evidências.'}\n",
        "Filmes.append(observacoes)"
      ],
      "metadata": {
        "id": "4thrKp89NL92"
      },
      "execution_count": 15,
      "outputs": []
    },
    {
      "cell_type": "code",
      "source": [
        "observacoes = {'Nome:' 'A Lista de Schindler', 'Ano:' '1993', 'Sinopse:' 'Depois de testemunhar a perseguição dos judaicos na Polônia ocupada pelos alemães durante a Segunda Guerra Mundial, o industrial Oskar Schindler se começa a preocupar com sua força de trabalho judaica.'}\n",
        "Filmes.append(observacoes)"
      ],
      "metadata": {
        "id": "xm20ulB_NMN-"
      },
      "execution_count": 16,
      "outputs": []
    },
    {
      "cell_type": "code",
      "source": [
        "observacoes = {'Nome:' 'O Senhor dos Anéis: O Retorno do Rei', 'Ano:' '2003', 'Sinopse:' 'Gandalf e Aragorn lideram o Mundo dos Homens contra o exército de Sauron para desviar o olhar de Frodo e Sam quando eles se aproximam á Montanha da Perdição com o Um Anel.'}\n",
        "Filmes.append(observacoes)"
      ],
      "metadata": {
        "id": "L8rn43EoNMdV"
      },
      "execution_count": 17,
      "outputs": []
    },
    {
      "cell_type": "code",
      "source": [
        "observacoes = {'Nome:' 'Pulp Fiction: Tempo de Violência', 'Ano:' '1994', 'Sinopse:' 'As vidas de dois assassinos da máfia, um boxeador, um gângster e sua esposa, e um par de bandidos se entrelaçam em quatro histórias de violência e redenção.'}\n",
        "Filmes.append(observacoes)"
      ],
      "metadata": {
        "id": "NQDSV4t2NMqd"
      },
      "execution_count": 18,
      "outputs": []
    },
    {
      "cell_type": "code",
      "source": [
        "observacoes = {'Nome:' 'O Senhor dos Anéis: A Sociedade do Anel', 'Ano:' '2001', 'Sinopse:' 'Um manso hobbit do Condado e oito companheiros partem em uma jornada para destruir o poderoso Um Anel e salvar a Terra-média das Trevas.'}\n",
        "Filmes.append(observacoes)"
      ],
      "metadata": {
        "id": "w_sn103cNM3u"
      },
      "execution_count": 19,
      "outputs": []
    },
    {
      "cell_type": "code",
      "source": [
        "observacoes = {'Nome:' 'Três Homens em Conflito', 'Ano:' '1966', 'Sinopse:' 'Um impostor se junta com dois homens para encontrar fortuna num remoto cemitério.'}\n",
        "Filmes.append(observacoes)"
      ],
      "metadata": {
        "id": "MAypu_WdNNKz"
      },
      "execution_count": 20,
      "outputs": []
    },
    {
      "cell_type": "code",
      "source": [
        "print(Filmes)"
      ],
      "metadata": {
        "id": "7TprirXRPdiC",
        "outputId": "a77cdcd2-8212-4f96-d011-1e31eda2bd64",
        "colab": {
          "base_uri": "https://localhost:8080/"
        }
      },
      "execution_count": 21,
      "outputs": [
        {
          "output_type": "stream",
          "name": "stdout",
          "text": [
            "[{'Nome:Um Sonho de Liberdade', 'Ano:1994', 'Sinopse:Dois homens presos se reúnem ao longo de vários anos, encontrando consolo e eventual redenção através de atos de decência comum.'}, {'Nome:O Poderoso Chefão', 'Sinopse:O patriarca idoso de uma dinastia do crime organizado transfere o controle de seu império clandestino para seu filho relutante.', 'Ano:1972'}, {'Nome:Batman: O Cavaleiro das Trevas', 'Ano:2008', 'Sinopse:Quando a ameaça conhecida como O Coringa surge de seu passado, causa estragos e caos nas pessoas de Gotham. O Cavaleiro das Trevas deve aceitar um dos maiores testes para combater a injustiça.'}, {'Ano:1974', 'Nome:O Poderoso Chefão II', 'Sinopse:Em 1950, Michael Corleone, agora à frente da família, tenta expandir o negócio do crime a Las Vegas, Los Angeles e Cuba. Paralelamente, é revelada a história de Vito Corleone, e de como saiu da Sicília e chegou a Nova Iorque.'}, {'Sinopse:Um jurado que se aposenta tenta evitar um erro judicial forçando seus colegas a reconsiderarem as evidências.', 'Ano:1957', 'Nome:12 Homens e uma Sentença'}, {'Sinopse:Depois de testemunhar a perseguição dos judaicos na Polônia ocupada pelos alemães durante a Segunda Guerra Mundial, o industrial Oskar Schindler se começa a preocupar com sua força de trabalho judaica.', 'Ano:1993', 'Nome:A Lista de Schindler'}, {'Nome:O Senhor dos Anéis: O Retorno do Rei', 'Sinopse:Gandalf e Aragorn lideram o Mundo dos Homens contra o exército de Sauron para desviar o olhar de Frodo e Sam quando eles se aproximam á Montanha da Perdição com o Um Anel.', 'Ano:2003'}, {'Ano:1994', 'Nome:Pulp Fiction: Tempo de Violência', 'Sinopse:As vidas de dois assassinos da máfia, um boxeador, um gângster e sua esposa, e um par de bandidos se entrelaçam em quatro histórias de violência e redenção.'}, {'Sinopse:Um manso hobbit do Condado e oito companheiros partem em uma jornada para destruir o poderoso Um Anel e salvar a Terra-média das Trevas.', 'Nome:O Senhor dos Anéis: A Sociedade do Anel', 'Ano:2001'}, {'Ano:1966', 'Sinopse:Um impostor se junta com dois homens para encontrar fortuna num remoto cemitério.', 'Nome:Três Homens em Conflito'}]\n"
          ]
        }
      ]
    },
    {
      "cell_type": "markdown",
      "source": [
        ""
      ],
      "metadata": {
        "id": "gKn6xwbc9n9F"
      }
    }
  ]
}